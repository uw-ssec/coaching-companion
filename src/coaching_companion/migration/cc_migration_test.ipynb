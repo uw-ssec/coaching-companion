{
 "cells": [
  {
   "cell_type": "markdown",
   "metadata": {},
   "source": [
    "# Migration Script\n",
    "This script is used to migrate nested data from one database into new tables within the same database. The script is written in Python and uses [SQLModel](https://sqlmodel.tiangolo.com/) to create, validate, and interact with the database.\n",
    "\n",
    "## Import Packages"
   ]
  },
  {
   "cell_type": "code",
   "execution_count": null,
   "metadata": {},
   "outputs": [],
   "source": [
    "%pip install -q sqlalchemy sqlmodel psycopg2-binary"
   ]
  },
  {
   "cell_type": "markdown",
   "metadata": {},
   "source": [
    "## Create Database Tables\n",
    "### Import Packages"
   ]
  },
  {
   "cell_type": "code",
   "execution_count": null,
   "metadata": {},
   "outputs": [],
   "source": [
    "import os\n",
    "from sqlalchemy import create_engine, URL\n",
    "from sqlmodel import SQLModel, create_engine"
   ]
  },
  {
   "cell_type": "code",
   "execution_count": null,
   "metadata": {},
   "outputs": [],
   "source": [
    "from coaching_companion.models import *"
   ]
  },
  {
   "cell_type": "code",
   "execution_count": null,
   "metadata": {},
   "outputs": [],
   "source": [
    "AWSDashboard(created_at=1633363200, created_by=1, title='Test Title', type='Test Type', id=None)"
   ]
  },
  {
   "cell_type": "code",
   "execution_count": null,
   "metadata": {},
   "outputs": [],
   "source": [
    "test_data = {\n",
    "    \"created_at\": 1633363200,\n",
    "    \"created_by\": 1,\n",
    "    \"title\": \"Test Title\",\n",
    "    \"type\": \"Test Type\"\n",
    "}\n",
    "\n",
    "AWSDashboard(**test_data)"
   ]
  },
  {
   "cell_type": "markdown",
   "metadata": {},
   "source": [
    "### Create Database Connection"
   ]
  },
  {
   "cell_type": "code",
   "execution_count": null,
   "metadata": {},
   "outputs": [],
   "source": [
    "# Generate the URL object\n",
    "url_object = URL.create(\n",
    "    drivername=\"postgresql\", # Do not change\n",
    "    host=os.environ['PG_TEST_HOST'],\n",
    "    username=os.environ['PG_TEST_USER'],\n",
    "    password=os.environ['PG_TEST_PASSWORD'],\n",
    "    database=os.environ['PG_TEST_NAME']\n",
    "    )\n",
    "\n",
    "# Create the engine\n",
    "engine = create_engine(url_object, echo=True)\n",
    "\n",
    "# Reference: https://docs.sqlalchemy.org/en/20/core/engines.html"
   ]
  },
  {
   "cell_type": "markdown",
   "metadata": {},
   "source": [
    "### Create Database Tables"
   ]
  },
  {
   "cell_type": "code",
   "execution_count": null,
   "metadata": {},
   "outputs": [],
   "source": [
    "# Create the Database Tables based on Validation Models\n",
    "SQLModel.metadata.create_all(engine)"
   ]
  }
 ],
 "metadata": {
  "kernelspec": {
   "display_name": "base",
   "language": "python",
   "name": "python3"
  },
  "language_info": {
   "codemirror_mode": {
    "name": "ipython",
    "version": 3
   },
   "file_extension": ".py",
   "mimetype": "text/x-python",
   "name": "python",
   "nbconvert_exporter": "python",
   "pygments_lexer": "ipython3",
   "version": "3.11.9"
  }
 },
 "nbformat": 4,
 "nbformat_minor": 2
}
