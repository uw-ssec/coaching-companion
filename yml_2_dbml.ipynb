{
 "cells": [
  {
   "cell_type": "markdown",
   "metadata": {},
   "source": [
    "# Convert Yaml to DBML"
   ]
  },
  {
   "cell_type": "code",
   "execution_count": 1,
   "metadata": {},
   "outputs": [],
   "source": [
    "import os\n",
    "import yaml"
   ]
  },
  {
   "cell_type": "markdown",
   "metadata": {},
   "source": [
    "## User Defined Variables"
   ]
  },
  {
   "cell_type": "code",
   "execution_count": 2,
   "metadata": {},
   "outputs": [
    {
     "name": "stdout",
     "output_type": "stream",
     "text": [
      "Yaml file path: /workspaces/coaching-companion/cc_db_info.yml\n"
     ]
    }
   ],
   "source": [
    "# Input Yaml file path\n",
    "yaml_file_name = 'cc_db_info.yml'\n",
    "yaml_file_path = os.path.join(os.getcwd(), yaml_file_name)\n",
    "\n",
    "print(f\"Yaml file path: {yaml_file_path}\")"
   ]
  },
  {
   "cell_type": "code",
   "execution_count": 3,
   "metadata": {},
   "outputs": [
    {
     "name": "stdout",
     "output_type": "stream",
     "text": [
      "DBML file path: /workspaces/coaching-companion/cc_db_diagram.dbml\n"
     ]
    }
   ],
   "source": [
    "# Output DBML file path\n",
    "dbml_file_name = 'cc_db_diagram.dbml'\n",
    "dbml_file_path = os.path.join(os.getcwd(), dbml_file_name)\n",
    "\n",
    "print(f\"DBML file path: {dbml_file_path}\")"
   ]
  },
  {
   "cell_type": "markdown",
   "metadata": {},
   "source": [
    "## File Handling\n",
    "### Load the Yaml file"
   ]
  },
  {
   "cell_type": "code",
   "execution_count": 4,
   "metadata": {},
   "outputs": [],
   "source": [
    "def load_yaml(file_path):\n",
    "    with open(file_path, 'r') as file:\n",
    "        return yaml.safe_load(file)"
   ]
  },
  {
   "cell_type": "markdown",
   "metadata": {},
   "source": [
    "## Yaml to DBML\n",
    "### Convert the Yaml to DBML"
   ]
  },
  {
   "cell_type": "code",
   "execution_count": 5,
   "metadata": {},
   "outputs": [],
   "source": [
    "import yaml\n",
    "\n",
    "def yaml_to_dbml(yaml_file):\n",
    "\t# Load the YAML file\n",
    "\twith open(yaml_file, 'r') as file:\n",
    "\t\tyaml_content = yaml.safe_load(file)\n",
    "\n",
    "\t# Focus on the 'vce_components_meta' section of the YAML content\n",
    "\tyaml_content = yaml_content['vce_components_meta']\n",
    "\t\n",
    "\tdbml_output = \"\"\n",
    "\t\n",
    "\t# Iterate through the dictionary under 'vce_components_meta'\n",
    "\tfor table_name, fields in yaml_content.items():\n",
    "\t\tdbml_output += f\"Table {table_name} {{\\n\"\n",
    "\t\tfor field in fields:  # Iterate directly over the list of fields\n",
    "\t\t\tfor field_name, field_type in field.items():\n",
    "\t\t\t\tdbml_output += f\"    {field_name} {field_type}\\n\"\n",
    "\t\tdbml_output += \"}\\n\\n\"\n",
    "\t\n",
    "\treturn dbml_output\n",
    "\n",
    "# Example usage\n",
    "# yaml_file_path = 'path_to_your_yaml_file.yaml'  # Replace with your actual file path\n",
    "dbml_content = yaml_to_dbml(yaml_file_path)\n",
    "# print(dbml_content)\n",
    "\n",
    "# Write the DBML content to a file\n",
    "with open(dbml_file_path, 'w') as file:\n",
    "\tfile.write(dbml_content)"
   ]
  }
 ],
 "metadata": {
  "kernelspec": {
   "display_name": "Python 3",
   "language": "python",
   "name": "python3"
  },
  "language_info": {
   "codemirror_mode": {
    "name": "ipython",
    "version": 3
   },
   "file_extension": ".py",
   "mimetype": "text/x-python",
   "name": "python",
   "nbconvert_exporter": "python",
   "pygments_lexer": "ipython3",
   "version": "3.11.9"
  }
 },
 "nbformat": 4,
 "nbformat_minor": 2
}
