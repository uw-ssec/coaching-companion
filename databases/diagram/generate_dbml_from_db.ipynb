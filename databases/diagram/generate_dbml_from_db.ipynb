{
 "cells": [
  {
   "cell_type": "markdown",
   "metadata": {},
   "source": [
    "# Generate DBML from Direct DB Connection\n",
    "\n",
    "- This method connects directly to your database and reads off your database schema (usually from INFORMATION_SCHEMA) to generate DBML code.\n",
    "- Everything runs on your local machine, and the database credentials are not tracked or sent anywhere.\n",
    "- The code is open source from the @dbml/cli & @dbml/connector.\n",
    "\n",
    "## Step 1: Install DBML CLI"
   ]
  },
  {
   "cell_type": "code",
   "execution_count": 1,
   "metadata": {},
   "outputs": [],
   "source": [
    "!npm install -g @dbml/cli --silent"
   ]
  },
  {
   "cell_type": "markdown",
   "metadata": {},
   "source": [
    "## Step 2: Generate DBML from SQL Database"
   ]
  },
  {
   "cell_type": "code",
   "execution_count": 5,
   "metadata": {},
   "outputs": [
    {
     "name": "stdout",
     "output_type": "stream",
     "text": [
      "\u001b[31m(node:4896) [DEP0040] DeprecationWarning: The `punycode` module is deprecated. Please use a userland alternative instead.\n",
      "(Use `node --trace-deprecation ...` to show where the warning was created)\u001b[39m\n",
      "  \u001b[32m✔\u001b[39m Generated DBML file from database's connection: cc_dbml_from_db_20240904_195650.dbml\n"
     ]
    }
   ],
   "source": [
    "!db2dbml postgres ${PG_TEST_URL_OBJECT} -o database_$(date +%Y%m%d_%H%M%S).dbml"
   ]
  },
  {
   "cell_type": "markdown",
   "metadata": {},
   "source": [
    "## Step 3: Copy and paste the produced DBML into the code panel on [dbdiagram.io](https://dbdiagram.io) to visualize your database."
   ]
  }
 ],
 "metadata": {
  "kernelspec": {
   "display_name": "base",
   "language": "python",
   "name": "python3"
  },
  "language_info": {
   "codemirror_mode": {
    "name": "ipython",
    "version": 3
   },
   "file_extension": ".py",
   "mimetype": "text/x-python",
   "name": "python",
   "nbconvert_exporter": "python",
   "pygments_lexer": "ipython3",
   "version": "3.11.9"
  }
 },
 "nbformat": 4,
 "nbformat_minor": 2
}
