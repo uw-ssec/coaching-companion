{
 "cells": [
  {
   "cell_type": "markdown",
   "id": "12af75d4",
   "metadata": {},
   "source": [
    "# Generate a List of All Class Model Names\n",
    "## Import Packages"
   ]
  },
  {
   "cell_type": "code",
   "execution_count": 1,
   "id": "import-modules",
   "metadata": {},
   "outputs": [],
   "source": [
    "# Import necessary modules\n",
    "import os\n",
    "import yaml\n",
    "import inspect\n",
    "import coaching_companion.models as models"
   ]
  },
  {
   "cell_type": "markdown",
   "id": "9a60dcd2",
   "metadata": {},
   "source": [
    "## Extract Class Model Names"
   ]
  },
  {
   "cell_type": "code",
   "execution_count": 2,
   "id": "get-classes",
   "metadata": {},
   "outputs": [],
   "source": [
    "# Get all classes from coaching_companion.models\n",
    "classes = [name for name, obj in inspect.getmembers(models) if inspect.isclass(obj)]"
   ]
  },
  {
   "cell_type": "markdown",
   "id": "13b8af22",
   "metadata": {},
   "source": [
    "### Convert the List into a Dictionary"
   ]
  },
  {
   "cell_type": "code",
   "execution_count": 3,
   "id": "2f6d2b10",
   "metadata": {},
   "outputs": [],
   "source": [
    "# Display the classes in yaml format\n",
    "yaml_data = {'models': classes}\n",
    "# print(yaml.dump(yaml_data))"
   ]
  },
  {
   "cell_type": "markdown",
   "id": "4f4f12b2",
   "metadata": {},
   "source": [
    "## Save the List of Class Model Names"
   ]
  },
  {
   "cell_type": "code",
   "execution_count": 4,
   "id": "384a3391",
   "metadata": {},
   "outputs": [],
   "source": [
    "def write_classes_yaml(output_folder, output_filename, yaml_data):\n",
    "    output_filepath = os.path.join(output_folder,f\"{output_filename}.yml\")\n",
    "    with open(output_filepath, 'w') as file:\n",
    "        yaml.dump(yaml_data, file)"
   ]
  },
  {
   "cell_type": "code",
   "execution_count": 5,
   "id": "write-to-yaml",
   "metadata": {},
   "outputs": [],
   "source": [
    "# Get the current working directory\n",
    "current_dir = os.getcwd()\n",
    "\n",
    "# Set the output filename (without the extension)\n",
    "output_filename = 'models_2_template2'\n",
    "\n",
    "# Write the list of class names to a YAML file\n",
    "write_classes_yaml(current_dir, output_filename, yaml_data)"
   ]
  }
 ],
 "metadata": {
  "kernelspec": {
   "display_name": "Python 3",
   "language": "python",
   "name": "python3"
  },
  "language_info": {
   "codemirror_mode": {
    "name": "ipython",
    "version": 3
   },
   "file_extension": ".py",
   "mimetype": "text/x-python",
   "name": "python",
   "nbconvert_exporter": "python",
   "pygments_lexer": "ipython3",
   "version": "3.11.9"
  }
 },
 "nbformat": 4,
 "nbformat_minor": 5
}
