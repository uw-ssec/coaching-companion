{
 "cells": [
  {
   "cell_type": "markdown",
   "id": "12af75d4",
   "metadata": {},
   "source": [
    "# Generate a List of All Class Model Names\n",
    "## Import Packages"
   ]
  },
  {
   "cell_type": "code",
   "execution_count": 10,
   "id": "import-modules",
   "metadata": {},
   "outputs": [],
   "source": [
    "# Import necessary modules\n",
    "import os\n",
    "import yaml\n",
    "import inspect\n",
    "import coaching_companion.models as models"
   ]
  },
  {
   "cell_type": "markdown",
   "id": "9a60dcd2",
   "metadata": {},
   "source": [
    "## Extract Class Model Names"
   ]
  },
  {
   "cell_type": "code",
   "execution_count": 5,
   "id": "get-classes",
   "metadata": {},
   "outputs": [],
   "source": [
    "# Get all classes from coaching_companion.models\n",
    "classes = [name for name, obj in inspect.getmembers(models) if inspect.isclass(obj)]"
   ]
  },
  {
   "cell_type": "markdown",
   "id": "13b8af22",
   "metadata": {},
   "source": [
    "### Convert the List into a Dictionary"
   ]
  },
  {
   "cell_type": "code",
   "execution_count": 8,
   "id": "2f6d2b10",
   "metadata": {},
   "outputs": [
    {
     "name": "stdout",
     "output_type": "stream",
     "text": [
      "models:\n",
      "- AWSDashboard\n",
      "- Access\n",
      "- AccreditationCertificate\n",
      "- ActionPlans\n",
      "- AddPlayByPlay\n",
      "- Alias\n",
      "- Annotations\n",
      "- AssessmentsClassroom\n",
      "- AssessmentsDashboard\n",
      "- AssessmentsEvaluation\n",
      "- AssessmentsLister\n",
      "- AssessmentsRating\n",
      "- AssessmentsReport\n",
      "- AssessmentsReportClassroom\n",
      "- AssessmentsSite\n",
      "- Assets\n",
      "- Assignments\n",
      "- AuthUser\n",
      "- AuthUserSettings\n",
      "- AuthUserSubmissions\n",
      "- AuthUsersLogAllAttributes\n",
      "- AuthUsersLogCompletedGoals\n",
      "- AuthUsersLogCopGroups\n",
      "- AuthUsersLogCopGroupsDigest\n",
      "- AuthUsersLogCreatedAt\n",
      "- AuthUsersLogPartnerships\n",
      "- AuthUsersLogProperties\n",
      "- AuthUsersLogReporting\n",
      "- AuthUsersLogSharedGoals\n",
      "- AuthUsersLogUploads\n",
      "- BaseTableModel\n",
      "- CoachingPartnership\n",
      "- CollaboraEndpoint\n",
      "- Comments\n",
      "- ConnectToMerit\n",
      "- ContactForm\n",
      "- CopAssets\n",
      "- CopGroups\n",
      "- CopLocation\n",
      "- CoursesState\n",
      "- CycleDashboard\n",
      "- DiscussionBoards\n",
      "- DiscussionTopics\n",
      "- Documentation\n",
      "- DualLanguageHandbook\n",
      "- DualLanguageSubmission\n",
      "- EaEvalSurvey\n",
      "- Endpoint\n",
      "- FamilySurveyLink\n",
      "- Grade\n",
      "- Inquisitor\n",
      "- InstructorMaterials\n",
      "- Item\n",
      "- Layout\n",
      "- Limit\n",
      "- Links\n",
      "- Lister\n",
      "- Location\n",
      "- Login\n",
      "- Logout\n",
      "- LtiEndpoint\n",
      "- ManageComponents\n",
      "- ManageDatalists\n",
      "- ManageGroups\n",
      "- ManageMenus\n",
      "- ManageRecipes\n",
      "- ManageSite\n",
      "- ManageStudents\n",
      "- ManageUsers\n",
      "- Media\n",
      "- MediaDatabase\n",
      "- MeritEndpoint\n",
      "- MssqlServer\n",
      "- Note\n",
      "- ProgramProfileSubmission\n",
      "- RatingsRubric\n",
      "- RecordsReviewHandbook\n",
      "- RecordsReviewSubmission\n",
      "- ReflectionAssignment\n",
      "- Reports\n",
      "- ReportsBuilder\n",
      "- ResetPassword\n",
      "- ResourceLibrary\n",
      "- SharedAssets\n",
      "- SharedGoals\n",
      "- Solotron\n",
      "- StudentSubmissions\n",
      "- StudentSubmissionsSlug\n",
      "- SupportingDocumentation\n",
      "- Tagit\n",
      "- Tracker\n",
      "- UnassignedAssets\n",
      "- UploadAndReflectionAssignment\n",
      "- UserInvitations\n",
      "- VideoConference\n",
      "- VideoHighlightSubmission\n",
      "- VideoReflection\n",
      "\n"
     ]
    }
   ],
   "source": [
    "# Display the classes in yaml format\n",
    "yaml_data = {'models': classes}\n",
    "print(yaml.dump(yaml_data))"
   ]
  },
  {
   "cell_type": "markdown",
   "id": "4f4f12b2",
   "metadata": {},
   "source": [
    "## Save the List of Class Model Names"
   ]
  },
  {
   "cell_type": "code",
   "execution_count": 14,
   "id": "384a3391",
   "metadata": {},
   "outputs": [],
   "source": [
    "def write_classes_yaml(output_folder, output_filename, yaml_data):\n",
    "    output_filepath = os.path.join(output_folder,f\"{output_filename}.yml\")\n",
    "    with open(output_filepath, 'w') as file:\n",
    "        yaml.dump(yaml_data, file)"
   ]
  },
  {
   "cell_type": "code",
   "execution_count": 16,
   "id": "write-to-yaml",
   "metadata": {},
   "outputs": [],
   "source": [
    "# Get the current working directory\n",
    "current_dir = os.getcwd()\n",
    "# Write the list of class names to a YAML file\n",
    "write_classes_yaml(current_dir, 'models_2_template2', yaml_data)"
   ]
  }
 ],
 "metadata": {
  "kernelspec": {
   "display_name": "Python 3",
   "language": "python",
   "name": "python3"
  },
  "language_info": {
   "codemirror_mode": {
    "name": "ipython",
    "version": 3
   },
   "file_extension": ".py",
   "mimetype": "text/x-python",
   "name": "python",
   "nbconvert_exporter": "python",
   "pygments_lexer": "ipython3",
   "version": "3.11.9"
  }
 },
 "nbformat": 4,
 "nbformat_minor": 5
}
