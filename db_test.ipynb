{
 "cells": [
  {
   "cell_type": "markdown",
   "metadata": {},
   "source": [
    "# Database Test Notebook"
   ]
  },
  {
   "cell_type": "code",
   "execution_count": 1,
   "metadata": {},
   "outputs": [
    {
     "name": "stdout",
     "output_type": "stream",
     "text": [
      "Note: you may need to restart the kernel to use updated packages.\n"
     ]
    }
   ],
   "source": [
    "%pip install -q mysql-connector-python psycopg2-binary graphviz ibis-framework"
   ]
  },
  {
   "cell_type": "markdown",
   "metadata": {},
   "source": [
    "### References\n",
    "\n",
    "- https://www.geeksforgeeks.org/how-to-connect-python-with-sql-database/#\n",
    "- https://www.datacamp.com/tutorial/tutorial-postgresql-python\n",
    "- https://stackoverflow.com/questions/12047193/how-to-convert-sql-query-result-to-pandas-data-structure\n",
    "- https://stackoverflow.com/questions/43633891/validating-a-data-type-in-python"
   ]
  },
  {
   "cell_type": "code",
   "execution_count": 1,
   "metadata": {},
   "outputs": [],
   "source": [
    "import os\n",
    "import mysql.connector\n",
    "import psycopg2\n",
    "import pandas as pd\n",
    "import graphviz\n"
   ]
  },
  {
   "cell_type": "markdown",
   "metadata": {},
   "source": [
    "## Connect to the Database\n",
    "\n",
    "Follows the Python Database API Specification v2.0\n",
    "\n",
    "Source: https://peps.python.org/pep-0249/"
   ]
  },
  {
   "cell_type": "markdown",
   "metadata": {},
   "source": [
    "### MySQL"
   ]
  },
  {
   "cell_type": "code",
   "execution_count": null,
   "metadata": {},
   "outputs": [],
   "source": [
    "# Creating MySQL connection object\n",
    "mydb = mysql.connector.connect(\n",
    "    database = os.environ['DB_NAME'],\n",
    "    host = os.environ['DB_HOST'],\n",
    "    user = os.environ['DB_USER'],\n",
    "    password = os.environ['DB_PASSWORD']\n",
    ")"
   ]
  },
  {
   "cell_type": "markdown",
   "metadata": {},
   "source": [
    "### Postgres"
   ]
  },
  {
   "cell_type": "code",
   "execution_count": 2,
   "metadata": {},
   "outputs": [],
   "source": [
    "mydb = psycopg2.connect(\n",
    "    database = os.environ['POSTGRES_DB_NAME'],\n",
    "    host = os.environ['POSTGRES_DB_HOST'],\n",
    "    user = os.environ['POSTGRES_DB_USER'],\n",
    "    password = os.environ['POSTGRES_DB_PASSWORD']\n",
    ")"
   ]
  },
  {
   "cell_type": "markdown",
   "metadata": {},
   "source": [
    "#### Create Cursor"
   ]
  },
  {
   "cell_type": "code",
   "execution_count": 5,
   "metadata": {},
   "outputs": [],
   "source": [
    "# Creating an instance of 'cursor' class which is used to execute the 'SQL' statements in 'Python'\n",
    "cursor = mydb.cursor()"
   ]
  },
  {
   "cell_type": "markdown",
   "metadata": {},
   "source": [
    "## Queries"
   ]
  },
  {
   "cell_type": "code",
   "execution_count": null,
   "metadata": {},
   "outputs": [],
   "source": [
    "query = [\n",
    "    \"SELECT distinct(meta_key) FROM vce_users_meta\",\n",
    "    \"SELECT * FROM vce_users LIMIT 20\",\n",
    "    \"SELECT * FROM vce_users_meta LIMIT 20\",\n",
    "    \"SELECT distinct(role_id) FROM vce_users\",\n",
    "    \"SELECT meta_value FROM vce_site_meta WHERE meta_key='roles'\",\n",
    "    \"SELECT distinct(meta_key) FROM vce_users_meta\",\n",
    "    \"SELECT * FROM monolithic.vce_components\",\n",
    "]"
   ]
  },
  {
   "cell_type": "code",
   "execution_count": 3,
   "metadata": {},
   "outputs": [],
   "source": [
    "query = [\n",
    "    \"\"\"select distinct(b.meta_value) from public.vce_components_meta a join public.vce_components_meta b on a.component_id = b.component_id and b.meta_key='type' and a.meta_key not like 'lms_assignment_id%';\"\"\"\n",
    "]"
   ]
  },
  {
   "cell_type": "markdown",
   "metadata": {},
   "source": [
    "### MySQL/Psycopg2 Connector Method"
   ]
  },
  {
   "cell_type": "code",
   "execution_count": 6,
   "metadata": {},
   "outputs": [
    {
     "name": "stdout",
     "output_type": "stream",
     "text": [
      "('Access',)\n",
      "('AccreditationCertificate',)\n",
      "('AccreditationSubmission',)\n",
      "('ActionPlans',)\n",
      "('AddPlayByPlay',)\n",
      "('Alias',)\n",
      "('Annotations',)\n",
      "('AssessmentsClassroom',)\n",
      "('AssessmentsDashbaord',)\n",
      "('AssessmentsEvaluation',)\n",
      "('AssessmentsLister',)\n",
      "('AssessmentsRating',)\n",
      "('AssessmentsReport',)\n",
      "('AssessmentsReportClassroom',)\n",
      "('AssessmentsSite',)\n",
      "('Assets',)\n",
      "('Assignments',)\n",
      "('AWSDashboard',)\n",
      "('CoachingPartnership',)\n",
      "('CollaboraEndpoint',)\n",
      "('Comments',)\n",
      "('ConnectToMerit',)\n",
      "('ContactForm',)\n",
      "('CopAssets',)\n",
      "('CopGroups',)\n",
      "('CopLocation',)\n",
      "('CoursesState',)\n",
      "('CycleDashboard',)\n",
      "('DiscussionBoards',)\n",
      "('DiscussionTopics',)\n",
      "('Documentation',)\n",
      "('DualLanguageHandbook',)\n",
      "('DualLanguageSubmission',)\n",
      "('Ea_eval_survey',)\n",
      "('Endpoint',)\n",
      "('FamilySurveyLink',)\n",
      "('Grade',)\n",
      "('Inquisitor',)\n",
      "('InstructorMaterials',)\n",
      "('Item',)\n",
      "('Layout',)\n",
      "('Limit',)\n",
      "('Links',)\n",
      "('Lister',)\n",
      "('Location',)\n",
      "('Login',)\n",
      "('Logout',)\n",
      "('LtiEndpoint',)\n",
      "('ManageComponents',)\n",
      "('ManageDatalists',)\n",
      "('ManageGroups',)\n",
      "('ManageMenus',)\n",
      "('ManageRecipes',)\n",
      "('ManageSite',)\n",
      "('ManageStudents',)\n",
      "('ManageUsers',)\n",
      "('Media',)\n",
      "('MediaDatabase',)\n",
      "('MeritEndpoint',)\n",
      "('MssqlServer',)\n",
      "('Note',)\n",
      "('ProgramProfileSubmission',)\n",
      "('RatingsRubric',)\n",
      "('RecordsReviewHandbook',)\n",
      "('RecordsReviewSubmission',)\n",
      "('ReflectionAssignment',)\n",
      "('Reports',)\n",
      "('ReportsBuilder',)\n",
      "('ResetPassword',)\n",
      "('ResourceLibrary',)\n",
      "('SharedAssets',)\n",
      "('SharedGoals',)\n",
      "('Solotron',)\n",
      "('StudentSubmissions',)\n",
      "('StudentSubmissionsSlug',)\n",
      "('SupportingDocumentation',)\n",
      "('Tagit',)\n",
      "('Tracker',)\n",
      "('UnassignedAssets',)\n",
      "('UploadAndReflectionAssignment',)\n",
      "('UserInvitations',)\n",
      "('UserSettings',)\n",
      "('UsersLogAllAttributes',)\n",
      "('UsersLogCompletedGoals',)\n",
      "('UsersLogCopGroups',)\n",
      "('UsersLogCopGroupsDigest',)\n",
      "('UsersLogCreatedAt',)\n",
      "('UsersLogPartnerships',)\n",
      "('UsersLogProperties',)\n",
      "('UsersLogReporting',)\n",
      "('UsersLogSharedGoals',)\n",
      "('UsersLogUploads',)\n",
      "('UserSubmissions',)\n",
      "('VideoConference',)\n",
      "('VideoHighlightSubmission',)\n",
      "('VideoReflection',)\n"
     ]
    }
   ],
   "source": [
    "cursor.execute(query[0])# Print contents of the cursor\n",
    "for x in cursor:\n",
    "  print(x)"
   ]
  },
  {
   "cell_type": "markdown",
   "metadata": {},
   "source": [
    "#### Pandas Method"
   ]
  },
  {
   "cell_type": "code",
   "execution_count": 7,
   "metadata": {},
   "outputs": [
    {
     "name": "stderr",
     "output_type": "stream",
     "text": [
      "/tmp/ipykernel_5600/3708841152.py:1: UserWarning: pandas only supports SQLAlchemy connectable (engine/connection) or database string URI or sqlite3 DBAPI2 connection. Other DBAPI2 objects are not tested. Please consider using SQLAlchemy.\n",
      "  df = pd.read_sql(query[0], con = mydb)\n"
     ]
    }
   ],
   "source": [
    "df = pd.read_sql(query[0], con = mydb)\n",
    "# print(df)\n",
    "# parent_id_list = df['parent_id'].unique().tolist()\n",
    "# parent_id_list.sort(key=int) # List of unique parent_id values\n",
    "# print(parent_id_list)"
   ]
  },
  {
   "cell_type": "code",
   "execution_count": null,
   "metadata": {},
   "outputs": [],
   "source": [
    "%pip install -q graphviz"
   ]
  },
  {
   "cell_type": "code",
   "execution_count": null,
   "metadata": {},
   "outputs": [],
   "source": [
    "w = graphviz.Digraph('wide')\n",
    "\n",
    "for index, row in df.iterrows():\n",
    " w.edge(str(row[\"component_id\"]), str(row[\"parent_id\"]), label='')\n",
    "\n",
    "w.view()\n",
    "\n",
    "# w.render('vce_components.gv.pdf', view=True)  # doctest: +SKIP"
   ]
  },
  {
   "cell_type": "markdown",
   "metadata": {},
   "source": [
    "## Using Ibis"
   ]
  },
  {
   "cell_type": "code",
   "execution_count": 2,
   "metadata": {},
   "outputs": [],
   "source": [
    "import os\n",
    "import ibis"
   ]
  },
  {
   "cell_type": "code",
   "execution_count": 3,
   "metadata": {},
   "outputs": [],
   "source": [
    "# Establish Connection\n",
    "conn = ibis.postgres.connect(\n",
    "    host=os.environ['POSTGRES_DB_HOST'],\n",
    "    user=os.environ['POSTGRES_DB_USER'],\n",
    "    password=os.environ['POSTGRES_DB_PASSWORD'],\n",
    "    database=os.environ['POSTGRES_DB_NAME']\n",
    ")"
   ]
  },
  {
   "cell_type": "code",
   "execution_count": 4,
   "metadata": {},
   "outputs": [
    {
     "data": {
      "text/plain": [
       "['auth_group',\n",
       " 'auth_group_permissions',\n",
       " 'auth_permission',\n",
       " 'auth_user',\n",
       " 'auth_user_groups',\n",
       " 'auth_user_user_permissions',\n",
       " 'django_admin_log',\n",
       " 'django_content_type',\n",
       " 'django_migrations',\n",
       " 'django_session',\n",
       " 'django_site',\n",
       " 'dra_auth_systems',\n",
       " 'dra_crud_permissions',\n",
       " 'dra_j_cecu_roles_to_org_uids',\n",
       " 'dra_j_org_subdivisions_to_org_uids',\n",
       " 'dra_j_org_uids_to_temp_emails',\n",
       " 'dra_j_org_uids_to_temp_users',\n",
       " 'dra_j_org_usernames_to_org_uids',\n",
       " 'dra_j_temp_users_to_temp_subgroups',\n",
       " 'dra_j_temp_users_to_temp_user_attributes',\n",
       " 'dra_j_to_temp_content_to_org_uids_to_ceci_roles_to_temp_subgrou',\n",
       " 'dra_j_uids_to_org_subdivisions_to_users',\n",
       " 'dra_j_uids_to_orgs_to_users',\n",
       " 'dra_j_users_to_roles',\n",
       " 'dra_org_subdivisions',\n",
       " 'dra_org_usernames',\n",
       " 'dra_organizations',\n",
       " 'dra_roles',\n",
       " 'dra_temp_access_control_rules',\n",
       " 'dra_temp_content',\n",
       " 'dra_temp_emails',\n",
       " 'dra_temp_groups',\n",
       " 'dra_temp_subgroups',\n",
       " 'dra_temp_user_attributes',\n",
       " 'dra_temp_users',\n",
       " 'dra_uids',\n",
       " 'ea_access_permissions',\n",
       " 'lti1p3_tool',\n",
       " 'lti1p3_tool_key',\n",
       " 'oauth_data',\n",
       " 'organizations',\n",
       " 'projects_project',\n",
       " 'token_blacklist_blacklistedtoken',\n",
       " 'token_blacklist_outstandingtoken',\n",
       " 'vce_analytics',\n",
       " 'vce_components',\n",
       " 'vce_components_meta',\n",
       " 'vce_datalists',\n",
       " 'vce_datalists_items',\n",
       " 'vce_datalists_items_meta',\n",
       " 'vce_datalists_meta',\n",
       " 'vce_datatype_lookup',\n",
       " 'vce_merit_connect',\n",
       " 'vce_merit_endpoint',\n",
       " 'vce_oauth_data',\n",
       " 'vce_sessions',\n",
       " 'vce_site_meta',\n",
       " 'vce_temp_components',\n",
       " 'vce_temp_members',\n",
       " 'vce_temp_users',\n",
       " 'vce_uploads',\n",
       " 'vce_uploads_s3',\n",
       " 'vce_users',\n",
       " 'vce_users_log',\n",
       " 'vce_users_meta']"
      ]
     },
     "execution_count": 4,
     "metadata": {},
     "output_type": "execute_result"
    }
   ],
   "source": [
    "# List all tables in the database\n",
    "conn.list_tables()"
   ]
  },
  {
   "cell_type": "code",
   "execution_count": 6,
   "metadata": {},
   "outputs": [
    {
     "data": {
      "text/plain": [
       "65"
      ]
     },
     "execution_count": 6,
     "metadata": {},
     "output_type": "execute_result"
    }
   ],
   "source": [
    "conn.list_tables()[0]\n",
    "len(conn.list_tables())"
   ]
  },
  {
   "cell_type": "code",
   "execution_count": 6,
   "metadata": {},
   "outputs": [
    {
     "data": {
      "text/plain": [
       "['id', 'component_id', 'meta_key', 'meta_value', 'minutia']"
      ]
     },
     "execution_count": 6,
     "metadata": {},
     "output_type": "execute_result"
    }
   ],
   "source": [
    "# Load a table\n",
    "vce_components_meta = conn.table('vce_components_meta')\n",
    "vce_components_meta.columns"
   ]
  },
  {
   "cell_type": "code",
   "execution_count": 7,
   "metadata": {},
   "outputs": [
    {
     "name": "stdout",
     "output_type": "stream",
     "text": [
      "                  meta_value\n",
      "0                     Access\n",
      "1   AccreditationCertificate\n",
      "2    AccreditationSubmission\n",
      "3                ActionPlans\n",
      "4              AddPlayByPlay\n",
      "..                       ...\n",
      "91           UsersLogUploads\n",
      "92           UserSubmissions\n",
      "93           VideoConference\n",
      "94  VideoHighlightSubmission\n",
      "95           VideoReflection\n",
      "\n",
      "[96 rows x 1 columns]\n"
     ]
    }
   ],
   "source": [
    "# Assuming vce_components_meta is already defined as conn.table('vce_components_meta')\n",
    "\n",
    "# Alias for self-join\n",
    "a = vce_components_meta.alias('a')  # Add alias for table a\n",
    "b = vce_components_meta.alias('b')  # Add alias for table b\n",
    "\n",
    "# Perform the join with conditions\n",
    "# Correcting the filter condition for a.meta_key not like 'lms_assignment_id%'\n",
    "joined = a.join(b, [a.component_id == b.component_id,\n",
    "\t\t\t\t\t b.meta_key == 'type',\n",
    "\t\t\t\t\t ~a.meta_key.like('lms_assignment_id%')])\n",
    "\n",
    "# Select distinct b.meta_value\n",
    "query = joined[b.meta_value].distinct()\n",
    "\n",
    "# Execute the query\n",
    "result = query.execute()\n",
    "\n",
    "# Print the result\n",
    "print(result)"
   ]
  },
  {
   "cell_type": "code",
   "execution_count": 8,
   "metadata": {},
   "outputs": [
    {
     "name": "stdout",
     "output_type": "stream",
     "text": [
      "     meta_key\n",
      "0  created_at\n",
      "1  created_by\n",
      "2       title\n",
      "3        type\n"
     ]
    }
   ],
   "source": [
    "# Assuming conn is your Ibis connection to the database\n",
    "vce_components_meta = conn.table('vce_components_meta')\n",
    "\n",
    "# Aliases for self-join\n",
    "a = vce_components_meta.alias('a')\n",
    "b = vce_components_meta.alias('b')\n",
    "c = vce_components_meta.alias('c')\n",
    "\n",
    "# Perform the joins\n",
    "joined = a.join(b, a.component_id == b.component_id) \\\n",
    "\t\t   .join(c, [a.component_id == c.component_id,\n",
    "\t\t\t\t\t c.meta_key == 'type',\n",
    "\t\t\t\t\t c.meta_value == 'AWSDashboard',\n",
    "\t\t\t\t\t ~a.meta_key.like('lms_assignment_id%')])\n",
    "\n",
    "# Select distinct b.meta_key\n",
    "query = joined[b.meta_key].distinct()\n",
    "\n",
    "# Execute the query\n",
    "result = query.execute()\n",
    "\n",
    "print(result)"
   ]
  },
  {
   "cell_type": "code",
   "execution_count": 9,
   "metadata": {},
   "outputs": [],
   "source": [
    "import ibis\n",
    "import yaml\n",
    "\n",
    "def extract_classes_and_attributes(conn, table_name):\n",
    "\tvce_components_meta = conn.table(table_name)\n",
    "\t\n",
    "\t# Aliases for self-join\n",
    "\ta = vce_components_meta.alias('a')\n",
    "\tb = vce_components_meta.alias('b')\n",
    "\tc = vce_components_meta.alias('c')\n",
    "\t\n",
    "\t# Query for distinct classes\n",
    "\tclass_query = a.join(b, [a.component_id == b.component_id,\n",
    "\t\t\t\t\t\t\t b.meta_key == 'type',\n",
    "\t\t\t\t\t\t\t ~a.meta_key.like('lms_assignment_id%')])[b.meta_value].distinct()\n",
    "\tclasses = class_query.execute()\n",
    "\t\n",
    "\t# Dictionary to hold class attributes\n",
    "\tclass_attributes = {}\n",
    "\t\n",
    "\tfor class_name in classes:\n",
    "\t\t# Query for attributes of the current class\n",
    "\t\tattribute_query = a.join(b, a.component_id == b.component_id) \\\n",
    "\t\t\t\t\t\t   .join(c, [a.component_id == c.component_id,\n",
    "\t\t\t\t\t\t\t\t\t c.meta_key == 'type',\n",
    "\t\t\t\t\t\t\t\t\t c.meta_value == class_name,\n",
    "\t\t\t\t\t\t\t\t\t ~a.meta_key.like('lms_assignment_id%')])[b.meta_key].distinct()\n",
    "\t\tattributes = attribute_query.execute()\n",
    "\t\t\n",
    "\t\t# Store attributes for the current class\n",
    "\t\tclass_attributes[class_name] = attributes.tolist()\n",
    "\t\n",
    "\t# Save the results as a YAML file\n",
    "\twith open('class_attributes.yaml', 'w') as file:\n",
    "\t\tyaml.dump(class_attributes, file, default_flow_style=False)\n",
    "\n",
    "# Example usage\n",
    "# Assuming 'conn' is your Ibis connection\n",
    "# extract_classes_and_attributes(conn, 'vce_components_meta')"
   ]
  }
 ],
 "metadata": {
  "kernelspec": {
   "display_name": "Python 3",
   "language": "python",
   "name": "python3"
  },
  "language_info": {
   "codemirror_mode": {
    "name": "ipython",
    "version": 3
   },
   "file_extension": ".py",
   "mimetype": "text/x-python",
   "name": "python",
   "nbconvert_exporter": "python",
   "pygments_lexer": "ipython3",
   "version": "3.11.9"
  }
 },
 "nbformat": 4,
 "nbformat_minor": 2
}
